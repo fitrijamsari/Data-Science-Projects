{
 "cells": [
  {
   "cell_type": "markdown",
   "metadata": {},
   "source": [
    "# Personal Library\n",
    "\n",
    "This is a collection of my personal typical code usage in Data Science Projects. The purpose of this file is to gather basic and advance code snippet which i usually used for data science projects."
   ]
  },
  {
   "cell_type": "markdown",
   "metadata": {},
   "source": [
    "# Step 0: Imports and Reading Data¶\n"
   ]
  },
  {
   "cell_type": "code",
   "execution_count": null,
   "metadata": {},
   "outputs": [],
   "source": [
    "#importing the libraries\n",
    "import numpy as np\n",
    "import pandas as pd\n",
    "import matplotlib.pyplot as plt\n",
    "import seaborn as sns"
   ]
  },
  {
   "cell_type": "code",
   "execution_count": null,
   "metadata": {},
   "outputs": [],
   "source": [
    "df_ori = pd.read_csv('coaster_db.csv')\n",
    "df_ori.head()"
   ]
  },
  {
   "cell_type": "markdown",
   "metadata": {},
   "source": [
    "## Step 1: Data Understanding¶\n"
   ]
  },
  {
   "cell_type": "code",
   "execution_count": null,
   "metadata": {},
   "outputs": [],
   "source": [
    "# Make a copy of the DataFrame to avoid modifying the original\n",
    "df = df_ori.copy() "
   ]
  },
  {
   "cell_type": "code",
   "execution_count": null,
   "metadata": {},
   "outputs": [],
   "source": [
    "df.shape"
   ]
  },
  {
   "cell_type": "code",
   "execution_count": null,
   "metadata": {},
   "outputs": [],
   "source": [
    "df.head(5)"
   ]
  },
  {
   "cell_type": "code",
   "execution_count": null,
   "metadata": {},
   "outputs": [],
   "source": [
    "df.columns"
   ]
  },
  {
   "cell_type": "code",
   "execution_count": null,
   "metadata": {},
   "outputs": [],
   "source": [
    "df.dtypes"
   ]
  },
  {
   "cell_type": "code",
   "execution_count": null,
   "metadata": {},
   "outputs": [],
   "source": [
    "df.describe()"
   ]
  },
  {
   "cell_type": "code",
   "execution_count": null,
   "metadata": {},
   "outputs": [],
   "source": [
    "df.info()"
   ]
  },
  {
   "cell_type": "code",
   "execution_count": null,
   "metadata": {},
   "outputs": [],
   "source": [
    "# check for duplicates\n",
    "df.duplicated().sum()"
   ]
  },
  {
   "cell_type": "code",
   "execution_count": null,
   "metadata": {},
   "outputs": [],
   "source": [
    "# check for missing values or NaN\n",
    "df.isnull().sum()"
   ]
  },
  {
   "cell_type": "code",
   "execution_count": null,
   "metadata": {},
   "outputs": [],
   "source": [
    "# check for unique value on each column\n",
    "df.nunique()"
   ]
  },
  {
   "cell_type": "markdown",
   "metadata": {},
   "source": [
    "## Step 2: Data Processing¶\n"
   ]
  },
  {
   "cell_type": "markdown",
   "metadata": {},
   "source": [
    "* Dropping irrelevant columns and rows\n",
    "* Identifying duplicated columns\n",
    "* Renaming Columns\n",
    "* Convert datetime"
   ]
  },
  {
   "cell_type": "code",
   "execution_count": null,
   "metadata": {},
   "outputs": [],
   "source": [
    "# Example of dropping columns\n",
    "df = df.drop(['Column1', 'Column2'], axis=1)"
   ]
  },
  {
   "cell_type": "code",
   "execution_count": null,
   "metadata": {},
   "outputs": [],
   "source": [
    "# Rename column\n",
    "df.rename(columns={'Exited':'Churn'}, inplace=True)"
   ]
  },
  {
   "cell_type": "code",
   "execution_count": null,
   "metadata": {},
   "outputs": [],
   "source": [
    "#identify duplicated row\n",
    "df.loc[df.duplicated()]\n",
    "\n",
    "# Check for duplicate coaster name\n",
    "df.loc[df.duplicated(subset=['Coaster_Name'])].head(5)\n",
    "\n",
    "# Checking an example duplicate\n",
    "df.query('Coaster_Name == \"Crystal Beach Cyclone\"')\n",
    "\n",
    "#use ~ to take the inverse\n",
    "df = df.loc[~df.duplicated(subset=['Coaster_Name','Location', 'Opening_Date'])].reset_index(drop=True).copy()"
   ]
  },
  {
   "cell_type": "markdown",
   "metadata": {},
   "source": [
    "#### Handling Datetime"
   ]
  },
  {
   "cell_type": "code",
   "execution_count": 3,
   "metadata": {},
   "outputs": [],
   "source": [
    "#change string dtype to datetime\n",
    "df['opening_date_clean'] = pd.to_datetime(df['opening_date_clean'])"
   ]
  },
  {
   "cell_type": "code",
   "execution_count": null,
   "metadata": {},
   "outputs": [],
   "source": [
    "# Extract components\n",
    "df['year'] = df['date_column'].dt.year\n",
    "df['month'] = df['date_column'].dt.month\n",
    "df['day'] = df['date_column'].dt.day\n",
    "df['hour'] = df['date_column'].dt.hour\n",
    "df['minute'] = df['date_column'].dt.minute\n",
    "df['second'] = df['date_column'].dt.second\n"
   ]
  },
  {
   "cell_type": "code",
   "execution_count": null,
   "metadata": {},
   "outputs": [],
   "source": [
    "# Filtering\n",
    "# Example: Filter rows where the date is in a specific range\n",
    "start_date = pd.to_datetime('2024-01-01')\n",
    "end_date = pd.to_datetime('2024-01-31')\n",
    "filtered_df = df[(df['date_column'] >= start_date) & (df['date_column'] <= end_date)]"
   ]
  },
  {
   "cell_type": "code",
   "execution_count": null,
   "metadata": {},
   "outputs": [],
   "source": [
    "# Example: Group by year and calculate mean\n",
    "yearly_mean = df.groupby(df['date_column'].dt.year).mean()\n",
    "\n",
    "# Example: Resample to monthly frequency and calculate sum\n",
    "monthly_sum = df.resample('M', on='date_column').sum()"
   ]
  },
  {
   "cell_type": "code",
   "execution_count": null,
   "metadata": {},
   "outputs": [],
   "source": [
    "# Assuming your datetime data is in UTC and you want to convert it to another timezone\n",
    "df['date_column'] = df['date_column'].dt.tz_localize('UTC').dt.tz_convert('America/New_York')"
   ]
  },
  {
   "cell_type": "markdown",
   "metadata": {},
   "source": [
    "### Handling Address"
   ]
  },
  {
   "cell_type": "code",
   "execution_count": null,
   "metadata": {},
   "outputs": [],
   "source": [
    "# standardizing address column\n",
    "df['address'] = df['address'].str.upper().str.strip()"
   ]
  },
  {
   "cell_type": "code",
   "execution_count": null,
   "metadata": {},
   "outputs": [],
   "source": [
    "# Example of parsing address components (depend on the address format)\n",
    "df['street'] = df['address'].str.split(',').str[0]\n",
    "df['city'] = df['address'].str.split(',').str[1]\n",
    "df['state'] = df['address'].str.split(',').str[2].str.strip().str.split(' ').str[0]\n",
    "df['zip_code'] = df['address'].str.split(',').str[2].str.strip().str.split(' ').str[1]"
   ]
  },
  {
   "cell_type": "code",
   "execution_count": null,
   "metadata": {},
   "outputs": [],
   "source": [
    "# Handling missing address\n",
    "# Example of dropping rows with missing addresses\n",
    "df.dropna(subset=['address'], inplace=True)\n",
    "\n",
    "# Example of filling missing values for street and city with placeholders\n",
    "df['street'].fillna('Unknown', inplace=True)\n",
    "df['city'].fillna('Unknown', inplace=True)"
   ]
  },
  {
   "cell_type": "markdown",
   "metadata": {},
   "source": [
    "#### Clean Uniques Symbols"
   ]
  },
  {
   "cell_type": "code",
   "execution_count": null,
   "metadata": {},
   "outputs": [],
   "source": [
    "# Inspect Data: First, inspect the data to understand the types of unique symbols present in the \"remarks\" column and the patterns of text.\n",
    "unique_remarks = df['colums'].unique()\n",
    "print(unique_remarks)"
   ]
  },
  {
   "cell_type": "code",
   "execution_count": null,
   "metadata": {},
   "outputs": [],
   "source": [
    "# Example: Removing special characters and converting to lowercase\n",
    "df = df['column'].str.replace('[^a-zA-Z0-9\\s]', '').str.lower()\n"
   ]
  },
  {
   "cell_type": "code",
   "execution_count": null,
   "metadata": {},
   "outputs": [],
   "source": [
    "# Example: Replace abbreviations or synonyms with full words\n",
    "df = df['column'].str.replace('abbr', 'abbreviation')"
   ]
  },
  {
   "cell_type": "code",
   "execution_count": null,
   "metadata": {},
   "outputs": [],
   "source": [
    "# Example: Tokenization and Lemmatization using NLTK\n",
    "import nltk\n",
    "from nltk.tokenize import word_tokenize\n",
    "from nltk.stem import WordNetLemmatizer\n",
    "\n",
    "nltk.download('punkt')\n",
    "nltk.download('wordnet')\n",
    "\n",
    "lemmatizer = WordNetLemmatizer()\n",
    "\n",
    "def lemmatize_text(text):\n",
    "    tokens = word_tokenize(text)\n",
    "    lemmatized_tokens = [lemmatizer.lemmatize(token) for token in tokens]\n",
    "    return ' '.join(lemmatized_tokens)\n",
    "\n",
    "df['clean_remarks'] = df['clean_remarks'].apply(lemmatize_text)\n"
   ]
  },
  {
   "cell_type": "code",
   "execution_count": null,
   "metadata": {},
   "outputs": [],
   "source": [
    "# Example: Removing stopwords using NLTK\n",
    "from nltk.corpus import stopwords\n",
    "\n",
    "nltk.download('stopwords')\n",
    "\n",
    "stop_words = set(stopwords.words('english'))\n",
    "\n",
    "def remove_stopwords(text):\n",
    "    tokens = word_tokenize(text)\n",
    "    filtered_tokens = [token for token in tokens if token.lower() not in stop_words]\n",
    "    return ' '.join(filtered_tokens)\n",
    "\n",
    "df['clean_remarks'] = df['clean_remarks'].apply(remove_stopwords)\n"
   ]
  },
  {
   "cell_type": "markdown",
   "metadata": {},
   "source": [
    "### Handling Missing Values"
   ]
  },
  {
   "cell_type": "code",
   "execution_count": null,
   "metadata": {},
   "outputs": [],
   "source": [
    "### OPTION 1: Remove Rows or Columns\n",
    "\n",
    "# Remove rows with any missing values\n",
    "cleaned_df = df.dropna()\n",
    "\n",
    "# Remove columns with any missing values\n",
    "cleaned_df = df.dropna(axis=1)\n",
    "\n",
    "# Remove rows with missing values in specific columns\n",
    "cleaned_df = df.dropna(subset=['column1', 'column2'])"
   ]
  },
  {
   "cell_type": "code",
   "execution_count": null,
   "metadata": {},
   "outputs": [],
   "source": [
    "# OPTION 2: Filling missing values: \n",
    "\n",
    "# Fill missing values with zero\n",
    "cleaned_df = df.fillna(0)\n",
    "\n",
    "# Fill missing values with mean of the column\n",
    "cleaned_df = df.fillna(df.mean())\n",
    "\n",
    "# Fill missing values with median of the column\n",
    "cleaned_df = df.fillna(df.median())\n",
    "\n",
    "# Fill missing values with mode of the column\n",
    "cleaned_df = df.fillna(df.mode().iloc[0])"
   ]
  },
  {
   "cell_type": "code",
   "execution_count": null,
   "metadata": {},
   "outputs": [],
   "source": [
    "# OPTION 3: Forward or backward filling:\n",
    "\n",
    "# Forward fill missing values (use value from previous row to fill missing)\n",
    "cleaned_df = df.ffill()\n",
    "\n",
    "# Backward fill missing values (use value from next row to fill missing)\n",
    "cleaned_df = df.bfill()"
   ]
  },
  {
   "cell_type": "code",
   "execution_count": null,
   "metadata": {},
   "outputs": [],
   "source": [
    "# OPTION 4: Interpolation: Interpolate missing values based on the values of adjacent data points. This is useful for time-series data.\n",
    "\n",
    "# Linear interpolation\n",
    "cleaned_df = df.interpolate(method='linear')\n",
    "\n",
    "# Polynomial interpolation (using higher-order polynomials)\n",
    "cleaned_df = df.interpolate(method='polynomial', order=2)\n"
   ]
  },
  {
   "cell_type": "code",
   "execution_count": 2,
   "metadata": {},
   "outputs": [],
   "source": [
    "# OPTION 5: KNN Imputation\n",
    "\n",
    "# Imputation using KNN\n",
    "from sklearn.impute import KNNImputer\n",
    "\n",
    "imputer = KNNImputer(n_neighbors=5)\n",
    "cleaned_df = pd.DataFrame(imputer.fit_transform(df), columns=df.columns)\n"
   ]
  },
  {
   "cell_type": "markdown",
   "metadata": {},
   "source": [
    "### Handling Outliers"
   ]
  },
  {
   "cell_type": "markdown",
   "metadata": {},
   "source": [
    "Visualize the data: Before deciding on a method to handle outliers, it's essential to visualize the data to identify outliers. Box plots, histograms, or scatter plots can help in visualizing the distribution and spotting outliers"
   ]
  },
  {
   "cell_type": "code",
   "execution_count": null,
   "metadata": {},
   "outputs": [],
   "source": [
    "import matplotlib.pyplot as plt\n",
    "import seaborn as sns\n",
    "\n",
    "# Box plot\n",
    "sns.boxplot(x=df['column_name'])\n",
    "plt.show()\n",
    "\n",
    "# Histogram\n",
    "plt.hist(df['column_name'], bins=20)\n",
    "plt.show()\n",
    "\n",
    "# Scatter plot (for multivariate analysis)\n",
    "plt.scatter(df['column1'], df['column2'])\n",
    "plt.xlabel('Column 1')\n",
    "plt.ylabel('Column 2')\n",
    "plt.show()\n"
   ]
  },
  {
   "cell_type": "code",
   "execution_count": 3,
   "metadata": {},
   "outputs": [],
   "source": [
    "# OPTION 1: Remove Outliers with IQR Method\n",
    "\n",
    "Q1 = df['CreditScore'].quantile(0.25)\n",
    "Q3 = df['CreditScore'].quantile(0.75)\n",
    "IQR = Q3 - Q1\n",
    "\n",
    "# Define the lower and upper bounds for outliers\n",
    "lower_bound = Q1 - 1.5 * IQR\n",
    "upper_bound = Q3 + 1.5 * IQR\n",
    "\n",
    "# Filter the DataFrame to remove outliers\n",
    "df = df[(df['CreditScore'] >= lower_bound) & (df['CreditScore'] <= upper_bound)]"
   ]
  },
  {
   "cell_type": "code",
   "execution_count": null,
   "metadata": {},
   "outputs": [],
   "source": [
    "# OPTION 2: Winsorization: Replace outliers with values at a specified percentile to limit their impact on the analysis.\n",
    "\n",
    "from scipy.stats.mstats import winsorize\n",
    "\n",
    "# Winsorize outliers\n",
    "winsorized_data = winsorize(df['column_name'], limits=[0.05, 0.05])\n",
    "df['column_name'] = winsorized_data"
   ]
  },
  {
   "cell_type": "code",
   "execution_count": null,
   "metadata": {},
   "outputs": [],
   "source": [
    "# OPTION 3: Transformation: Apply mathematical transformations to the data to reduce the impact of outliers. Common transformations include logarithmic, square root, or inverse transformations\n",
    "# For highly skewed data, logarithmic transformation is recommended.\n",
    "\n",
    "import numpy as np\n",
    "\n",
    "# Log transformation\n",
    "df['log_transformed_column'] = np.log(df['column_name'])\n",
    "\n",
    "# If the feature has 0.0 values, use np.log1p (log(1+x)) instead of np.log\n",
    "df['log_transformed_column'] = np.log1p(df['column_name'])\n",
    "\n",
    "# Square root transformation\n",
    "df['sqrt_transformed_column'] = np.sqrt(df['column_name'])\n",
    "\n",
    "# Inverse transformation\n",
    "df['inverse_transformed_column'] = 1 / df['column_name']\n"
   ]
  },
  {
   "cell_type": "code",
   "execution_count": null,
   "metadata": {},
   "outputs": [],
   "source": [
    "# OPTION 4: Removing outliers using Z-Score\n",
    "\n",
    "from scipy import stats\n",
    "\n",
    "z_scores = np.abs(stats.zscore(df['Claim_Value']))\n",
    "threshold = 3  # You can adjust this threshold based on your data, Threshold need to be calculated, 3 means 3 of standard deviation\n",
    "\n",
    "# Filter the DataFrame to remove outliers\n",
    "df = df[z_scores < threshold]\n",
    "\n",
    "# OR manually calculate\n",
    "\n",
    "df['z_scores'] = (df['Claim_Value'] - df['Claim_Value'].mean())/df['Claim_Value'].std()\n",
    "df = df(df['z_scores'] < threshold)\n"
   ]
  },
  {
   "cell_type": "code",
   "execution_count": null,
   "metadata": {},
   "outputs": [],
   "source": [
    "# OPTION 5: Use robust statistical methods: Use statistical methods that are less sensitive to outliers, such as robust regression techniques like RANSAC or robust covariance estimation methods.\n",
    "\n",
    "from sklearn.linear_model import RANSACRegressor\n",
    "\n",
    "ransac = RANSACRegressor()\n",
    "ransac.fit(X, y)\n",
    "inlier_mask = ransac.inlier_mask_\n",
    "outlier_mask = np.logical_not(inlier_mask)\n"
   ]
  },
  {
   "cell_type": "markdown",
   "metadata": {},
   "source": [
    "### Convert Text into Vectors\n",
    "1. Bag of Words: BoW represents text as a numerical vector where each dimension corresponds to a unique word in the vocabulary, and the value represents the frequency of the word in the document.\n",
    "\n",
    "2. TF-IDF (Term Frequency-Inverse Document Frequency): TF-IDF reflects the importance of a word in a document relative to a collection of documents. It penalizes common words and emphasizes rare words that are more informative. \n",
    "\n",
    "3. Word Embeddings: Word embeddings represent words as dense vectors in a continuous vector space. Pre-trained word embeddings like Word2Vec, GloVe, or fastText can be used, or you can train word embeddings specific to your dataset."
   ]
  },
  {
   "cell_type": "code",
   "execution_count": null,
   "metadata": {},
   "outputs": [],
   "source": [
    "# Sample text data\n",
    "text_data = df['review_column'].tolist()\n",
    "max_features = df.shape[0]"
   ]
  },
  {
   "cell_type": "code",
   "execution_count": null,
   "metadata": {},
   "outputs": [],
   "source": [
    "# Using BoW to convert text to vector for tags columns\n",
    "\n",
    "# BoW\n",
    "from sklearn.feature_extraction.text import CountVectorizer\n",
    "\n",
    "def bag_of_words_converter(text_data:list, max_features:int) -> np.array:\n",
    "\n",
    "    # Create a CountVectorizer object\n",
    "    vectorizer = CountVectorizer(max_features=max_features, stop_words='english')\n",
    "\n",
    "    # Fit the vectorizer to the data and transform the text into a bag-of-words vector representation\n",
    "    bow_vectors = vectorizer.fit_transform(text_data)\n",
    "\n",
    "    # Convert the sparse matrix to a dense array for visualization (optional)\n",
    "    bow_vectors_array = bow_vectors.toarray()\n",
    "\n",
    "    print(f\"Bag-of-Words vectors: \\n {bow_vectors_array}\")\n",
    "    print(f\"Bag-of-Words shape: {bow_vectors_array.shape}\")\n",
    "\n",
    "    return bow_vectors_array\n",
    "\n",
    "bow_vectors_array = bag_of_words_converter(text_data, max_features)"
   ]
  },
  {
   "cell_type": "code",
   "execution_count": null,
   "metadata": {},
   "outputs": [],
   "source": [
    "# TF-IDF (Term Frequency-Inverse Document Frequency):\n",
    "\n",
    "from sklearn.feature_extraction.text import TfidfVectorizer\n",
    "\n",
    "# Create a TfidfVectorizer object\n",
    "tfidf_vectorizer = TfidfVectorizer()\n",
    "\n",
    "# Fit the vectorizer to the data and transform the text into a TF-IDF vector representation\n",
    "tfidf_vectors = tfidf_vectorizer.fit_transform(text_data)\n",
    "\n",
    "# Convert the sparse matrix to a dense array for visualization (optional)\n",
    "tfidf_vectors_array = tfidf_vectors.toarray()\n",
    "\n",
    "print(\"TF-IDF vectors:\")\n",
    "print(tfidf_vectors_array)"
   ]
  },
  {
   "cell_type": "code",
   "execution_count": null,
   "metadata": {},
   "outputs": [],
   "source": [
    "# Word Embeddings\n",
    "\n",
    "from tensorflow.keras.preprocessing.text import Tokenizer\n",
    "from tensorflow.keras.preprocessing.sequence import pad_sequences\n",
    "\n",
    "# Tokenize text data\n",
    "tokenizer = Tokenizer()\n",
    "tokenizer.fit_on_texts(text_data)\n",
    "sequences = tokenizer.texts_to_sequences(text_data)\n",
    "\n",
    "# Pad sequences to ensure uniform length (required for neural networks)\n",
    "max_sequence_length = max([len(seq) for seq in sequences])\n",
    "padded_sequences = pad_sequences(sequences, maxlen=max_sequence_length)\n",
    "\n",
    "print(\"Word Embeddings (Padded sequences):\")\n",
    "print(padded_sequences)"
   ]
  },
  {
   "cell_type": "markdown",
   "metadata": {},
   "source": [
    "#### Cosine Similarity\n",
    "\n",
    "Cosine similarity is a measure of similarity between two non-zero vectors in an inner product space. It measures the cosine of the angle between the two vectors and ranges from -1 (opposite directions) to 1 (same direction), with 0 indicating orthogonality (perpendicularity).\n",
    "\n",
    "In the context of text analysis, cosine similarity is often used to quantify the similarity between two documents represented as numerical vectors, such as Bag-of-Words vectors or TF-IDF vectors. It measures how similar the documents are in terms of their word frequencies or TF-IDF values."
   ]
  },
  {
   "cell_type": "code",
   "execution_count": null,
   "metadata": {},
   "outputs": [],
   "source": [
    "from sklearn.metrics.pairwise import cosine_similarity\n",
    "\n",
    "# Assuming vectors_a and vectors_b are arrays of vectors\n",
    "# Calculate cosine similarity between two sets of vectors\n",
    "cosine_similarities = cosine_similarity(vectors_a, vectors_b)\n",
    "\n",
    "# Accessing cosine similarity between the first vector in vectors_a and the first vector in vectors_b\n",
    "similarity_score = cosine_similarities[0][0]\n"
   ]
  },
  {
   "cell_type": "markdown",
   "metadata": {},
   "source": [
    "## Step 3: Data Exploration\n"
   ]
  },
  {
   "cell_type": "code",
   "execution_count": null,
   "metadata": {},
   "outputs": [],
   "source": [
    "# Count values of selected columns\n",
    "df['columns'].value_counts()"
   ]
  },
  {
   "cell_type": "code",
   "execution_count": 4,
   "metadata": {},
   "outputs": [
    {
     "data": {
      "image/png": "[encoded data removed]",
      "text/plain": [
       "<Figure size 3000x3000 with 12 Axes>"
      ]
     },
     "metadata": {},
     "output_type": "display_data"
    }
   ],
   "source": [
    "# Quick data distribution overview\n",
    "df.hist(bins=30, figsize=(30, 30))\n",
    "plt.tight_layout()  # Ensures proper spacing between subplots\n",
    "plt.show()"
   ]
  },
  {
   "cell_type": "code",
   "execution_count": null,
   "metadata": {},
   "outputs": [],
   "source": [
    "# Split dataset based on classification class.\n",
    "fraud_df = df[df['Class'] == 1]\n",
    "not_fraud_df = df[df['Class'] == 0]"
   ]
  },
  {
   "cell_type": "markdown",
   "metadata": {},
   "source": [
    "## Step 4: Feature Relationships¶\n"
   ]
  },
  {
   "cell_type": "markdown",
   "metadata": {},
   "source": [
    "* CountPlot\n",
    "* Scatterplot\n",
    "* Heatmap Correlation\n",
    "* Pairplot\n",
    "* Groupby comparisons\n"
   ]
  },
  {
   "cell_type": "markdown",
   "metadata": {},
   "source": [
    "### Pie Chart"
   ]
  },
  {
   "cell_type": "code",
   "execution_count": null,
   "metadata": {},
   "outputs": [],
   "source": [
    "#pie chart\n",
    "plt.figure(figsize=(10,6))\n",
    "plt.pie(df['Class'].value_counts(), labels=['Not Fraud','Fraud'], autopct='%1.2f%%')\n",
    "plt.title('Class Percentage')\n",
    "plt.show()"
   ]
  },
  {
   "cell_type": "markdown",
   "metadata": {},
   "source": [
    "### Histogram"
   ]
  },
  {
   "cell_type": "code",
   "execution_count": null,
   "metadata": {},
   "outputs": [],
   "source": [
    "sns.histplot(x = 'Age', data = df, bins=74, hue='Churn', multiple='stack', kde=True)\n",
    "plt.title('Distribution of Customer by Age')\n",
    "\n",
    "# derive the line of mean and median and mode\n",
    "plt.axvline(df['Age'].mean(), color='g', linestyle='--', label='Mean')\n",
    "plt.axvline(df['Age'].median(), color='b', linestyle='--', label='Median')\n",
    "plt.legend()\n",
    "plt.show()"
   ]
  },
  {
   "cell_type": "markdown",
   "metadata": {},
   "source": [
    "### Bar Plot"
   ]
  },
  {
   "cell_type": "code",
   "execution_count": null,
   "metadata": {},
   "outputs": [],
   "source": [
    "# Count plot with value\n",
    "sns.countplot(x='Class', data= df)\n",
    "\n",
    "# Annotate count values\n",
    "for i, count in enumerate(df['Class'].value_counts()):\n",
    "    plt.text(i, count, str(count), ha = 'center',va='bottom')\n",
    "\n",
    "plt.title(\"Churn Count\")\n",
    "plt.show()"
   ]
  },
  {
   "cell_type": "code",
   "execution_count": null,
   "metadata": {},
   "outputs": [],
   "source": [
    "# barplot againts target colums (classification)\n",
    "fig = sns.countplot(data=df, x='Churn', hue='Geography')\n",
    "\n",
    "# set the x and y labels and title\n",
    "fig.set_xlabel(\"Churn\")\n",
    "fig.set_ylabel(\"Count\")\n",
    "fig.set_title(\"Countplot of Churn by Geography\")\n",
    "\n",
    "for bars in fig.containers:\n",
    "    fig.bar_label(bars)"
   ]
  },
  {
   "cell_type": "markdown",
   "metadata": {},
   "source": [
    "### Count Percentage and Plot"
   ]
  },
  {
   "cell_type": "code",
   "execution_count": null,
   "metadata": {},
   "outputs": [],
   "source": [
    "## Count Percentage\n",
    "country_count_by_churn = df.groupby(['Geography', 'Churn']).size().unstack(fill_value=0)\n",
    "\n",
    "# Calculate the total count of customers for each Country\n",
    "country_total_count = country_count_by_churn.sum(axis=1)\n",
    "\n",
    "# # Calculate the percentage of churn by Country\n",
    "churn_percentage_by_country = (country_count_by_churn[1] / country_total_count) * 100\n",
    "\n",
    "# # Reset the index to use 'Gender' and 'Churn' as columns\n",
    "churn_percentage_by_country = churn_percentage_by_country.reset_index()\n",
    "\n",
    "# # Rename columns\n",
    "churn_percentage_by_country.columns = ['Geography', 'Churn Percentage']\n",
    "print(churn_percentage_by_country)"
   ]
  },
  {
   "cell_type": "code",
   "execution_count": null,
   "metadata": {},
   "outputs": [],
   "source": [
    "# Bar plot\n",
    "sns.barplot(x='Geography', y='Churn Percentage', data=churn_percentage_by_country)\n",
    "\n",
    "# Annotate count values for Gender distribution\n",
    "for i, count in enumerate(churn_percentage_by_country['Churn Percentage']):\n",
    "    plt.text(i, count, f\"{count:.2f}%\", ha='center', va='bottom')\n",
    "\n",
    "plt.title('Percentage of Churn by Geography')\n",
    "plt.xlabel('Geography')\n",
    "plt.ylabel('Percentage of Churn')\n",
    "\n",
    "plt.show()"
   ]
  },
  {
   "cell_type": "markdown",
   "metadata": {},
   "source": [
    "### Boxplot and ViolinPlot"
   ]
  },
  {
   "cell_type": "code",
   "execution_count": null,
   "metadata": {},
   "outputs": [],
   "source": [
    "# Check for outliers\n",
    "fig,ax = plt.subplots(1,2,figsize=(15,5))\n",
    "sns.boxplot(x ='Churn' , y = 'CreditScore', data=df ,ax=ax[0])\n",
    "ax[0].set_title('Box Plot of CreditScore by Churn')\n",
    "\n",
    "sns.violinplot(x ='Churn' , y = 'CreditScore', data=df ,ax=ax[1])\n",
    "ax[1].set_title('Violin Plot of CreditScore by Churn')\n",
    "plt.show()"
   ]
  },
  {
   "cell_type": "markdown",
   "metadata": {},
   "source": [
    "### Scatterplot"
   ]
  },
  {
   "cell_type": "code",
   "execution_count": null,
   "metadata": {},
   "outputs": [],
   "source": [
    "#seaborn can do more than standard matplotlib. For example, it can introduce hue using another features\n",
    "sns.scatterplot(x='Speed_mph', y='Height_ft', data =df, hue='Year_Introduced')\n",
    "plt.show()"
   ]
  },
  {
   "cell_type": "code",
   "execution_count": null,
   "metadata": {},
   "outputs": [],
   "source": [
    "#comparing selected features between each other (we only compare numerical features)\n",
    "sns.pairplot(data =df, vars=['Year_Introduced','Speed_mph',\n",
    "                   'Height_ft','Inversions','Gforce'], hue='Type_Main')\n",
    "\n",
    "plt.show()"
   ]
  },
  {
   "cell_type": "markdown",
   "metadata": {},
   "source": [
    "## Step 5: Feature Engineering\n"
   ]
  },
  {
   "cell_type": "markdown",
   "metadata": {},
   "source": [
    "## Normalize vs Standardize:\n",
    "- Using both when we want to use gradient model based calculation.(linear/logistic regression , Neural Network)!!\n",
    "- Not required for tree base calculation such as Decision Tree, Random Forest, K-Mean Clustering, SVM, KNN, XG Boost!!"
   ]
  },
  {
   "cell_type": "markdown",
   "metadata": {},
   "source": [
    "#### Normalization\n",
    "- Normalize data to a specific range, typically [0, 1].\n",
    "- Useful when the features have different scales and you want them all to be within a consistent range."
   ]
  },
  {
   "cell_type": "code",
   "execution_count": null,
   "metadata": {},
   "outputs": [],
   "source": [
    "from sklearn.preprocessing import MinMaxScaler\n",
    "\n",
    "def normalization_continuous_variables(df:pd.DataFrame, columns:list):\n",
    "    \"\"\"\n",
    "    Normalizes continuous variables in a DataFrame using MinMaxScaler.\n",
    "\n",
    "    Parameters:\n",
    "    - df: pandas DataFrame\n",
    "        Input DataFrame containing the columns to be normalized.\n",
    "    - columns: list of strings\n",
    "        List of column names to be normalized.\n",
    "\n",
    "    Returns:\n",
    "    - df: pandas DataFrame\n",
    "        DataFrame with specified columns normalized.\n",
    "    \"\"\"\n",
    "    df_copy = df.copy()  # Make a copy of the DataFrame to avoid modifying the original\n",
    "    minmax_scaler = MinMaxScaler()\n",
    "    df_copy[columns] = minmax_scaler.fit_transform(df_copy[columns])\n",
    "    return df_copy\n",
    "\n",
    "# Specify columns to be normalized\n",
    "columns_to_normalize = ['CreditScore', 'Balance', 'EstimatedSalary']\n",
    "\n",
    "# Normalize continuous variables\n",
    "df = normalization_continuous_variables(df, columns_to_normalize)\n",
    "df.head()"
   ]
  },
  {
   "cell_type": "markdown",
   "metadata": {},
   "source": [
    "#### Standardization\n",
    "- Standardize data to have a mean (*μ*) of 0 and a standard deviation (*σ*) of 1.\n",
    "- Suitable when features have different means and standard deviations."
   ]
  },
  {
   "cell_type": "code",
   "execution_count": null,
   "metadata": {},
   "outputs": [],
   "source": [
    "from sklearn.preprocessing import StandardScaler\n",
    "\n",
    "def standardization_continuous_variables(df:pd.DataFrame, columns:list):\n",
    "    \"\"\"\n",
    "    Normalizes continuous variables in a DataFrame using StandardScaler.\n",
    "\n",
    "    Parameters:\n",
    "    - df: pandas DataFrame\n",
    "        Input DataFrame containing the columns to be normalized.\n",
    "    - columns: list of strings\n",
    "        List of column names to be normalized.\n",
    "\n",
    "    Returns:\n",
    "    - df: pandas DataFrame\n",
    "        DataFrame with specified columns normalized.\n",
    "    \"\"\"\n",
    "    df_copy = df.copy()  # Make a copy of the DataFrame to avoid modifying the original\n",
    "    standard_scaler = StandardScaler()\n",
    "    df_copy[columns] = standard_scaler.fit_transform(df_copy[columns])\n",
    "    return df_copy\n",
    "\n",
    "# Specify columns to be standardized\n",
    "columns_to_standardize = ['CreditScore', 'Balance', 'EstimatedSalary']\n",
    "\n",
    "# Standardization continuous variables\n",
    "df = standardization_continuous_variables(df, columns_to_standardize)\n",
    "df.head()"
   ]
  },
  {
   "cell_type": "markdown",
   "metadata": {},
   "source": [
    "#### RobustScalar\n",
    "- is a preprocessing technique used in machine learning to scale features of a dataset. It is robust to outliers, meaning it scales the data based on statistics that are robust to outliers rather than the mean and standard deviation. This makes it suitable for datasets that contain outliers or have a non-Gaussian distribution."
   ]
  },
  {
   "cell_type": "code",
   "execution_count": null,
   "metadata": {},
   "outputs": [],
   "source": [
    "from sklearn.preprocessing import RobustScaler\n",
    "\n",
    "def robust_scaling(df:pd.DataFrame, columns:list):\n",
    "    \"\"\"\n",
    "    Normalizes continuous variables in a DataFrame using RobustScaler.\n",
    "\n",
    "    Parameters:\n",
    "    - df: pandas DataFrame\n",
    "        Input DataFrame containing the columns to be normalized.\n",
    "    - columns: list of strings\n",
    "        List of column names to be normalized.\n",
    "\n",
    "    Returns:\n",
    "    - df: pandas DataFrame\n",
    "        DataFrame with specified columns normalized.\n",
    "    \"\"\"\n",
    "    df_copy = df.copy()  # Make a copy of the DataFrame to avoid modifying the original\n",
    "    robust_scaler = RobustScaler()\n",
    "    df_copy[columns] = robust_scaler.fit_transform(df_copy[columns])\n",
    "    return df_copy"
   ]
  },
  {
   "cell_type": "markdown",
   "metadata": {},
   "source": [
    "#### One-Hot Encoding\n",
    "For Geography and Gender (Categorical -> Nominal Type)"
   ]
  },
  {
   "cell_type": "code",
   "execution_count": null,
   "metadata": {},
   "outputs": [],
   "source": [
    "from sklearn.preprocessing import OneHotEncoder\n",
    "one_hot_encoder = OneHotEncoder()"
   ]
  },
  {
   "cell_type": "code",
   "execution_count": null,
   "metadata": {},
   "outputs": [],
   "source": [
    "def one_hot_encode(df:pd.DataFrame, columns:list):\n",
    "    \"\"\"\n",
    "    Performs one-hot encoding for multiple columns in a DataFrame.\n",
    "\n",
    "    Parameters:\n",
    "    - df: pandas DataFrame\n",
    "        Input DataFrame containing the columns to be one-hot encoded.\n",
    "    - columns: list of strings\n",
    "        List of column names to be one-hot encoded.\n",
    "\n",
    "    Returns:\n",
    "    - df: pandas DataFrame\n",
    "        DataFrame with specified columns one-hot encoded.\n",
    "    \"\"\"\n",
    "    df = df.copy() # Make a copy of the DataFrame to avoid modifying the original\n",
    "    for column in columns:\n",
    "        dummies = pd.get_dummies(df[column], prefix=column)\n",
    "        df = pd.concat([df, dummies], axis=1)\n",
    "        df.drop(column, axis=1, inplace=True)\n",
    "    return df\n",
    "\n",
    "# Specify columns to be one-hot encoded\n",
    "columns_to_encode = ['Gender', 'Geography']\n",
    "\n",
    "# Perform one-hot encoding\n",
    "df = one_hot_encode(df, columns_to_encode).astype(int)\n",
    "df.head()\n"
   ]
  },
  {
   "cell_type": "markdown",
   "metadata": {},
   "source": [
    "#### Label Encoding\n",
    "label encoding for categorical -> Ordinal type (shoe size, severity)\n"
   ]
  },
  {
   "cell_type": "code",
   "execution_count": null,
   "metadata": {},
   "outputs": [],
   "source": [
    "from sklearn.preprocessing import LabelEncoder\n",
    "encoder = LabelEncoder()"
   ]
  },
  {
   "cell_type": "code",
   "execution_count": null,
   "metadata": {},
   "outputs": [],
   "source": [
    "def label_encode(df:pd.DataFrame, columns:list):\n",
    "    \"\"\"\n",
    "    Performs label encoding for multiple columns in a DataFrame.\n",
    "\n",
    "    Parameters:\n",
    "    - df: pandas DataFrame\n",
    "        Input DataFrame containing the columns to be label encoded.\n",
    "    - columns: list of strings\n",
    "        List of column names to be label encoded.\n",
    "\n",
    "    Returns:\n",
    "    - df: pandas DataFrame\n",
    "        DataFrame with specified columns label encoded.\n",
    "    \"\"\"\n",
    "    df = df.copy()  # Make a copy of the DataFrame to avoid modifying the original\n",
    "    \n",
    "    for column in columns:\n",
    "        df[column] = encoder.fit_transform(df[column])\n",
    "    return df\n",
    "\n",
    "# Specify columns to be label encoded\n",
    "columns_to_encode = ['Size', 'Severity']\n",
    "\n",
    "# Perform label encoding\n",
    "df = label_encode(df, columns_to_encode)\n",
    "df.head()  "
   ]
  },
  {
   "cell_type": "markdown",
   "metadata": {},
   "source": [
    "# Handling Imbalance Dataset"
   ]
  },
  {
   "cell_type": "code",
   "execution_count": null,
   "metadata": {},
   "outputs": [],
   "source": [
    "from sklearn.model_selection import train_test_split\n",
    "from imblearn.under_sampling import RandomUnderSampler\n",
    "from imblearn.over_sampling import SMOTE\n",
    "\n",
    "def prepare_data_rus_smote_mix(X:pd.DataFrame, y:pd.DataFrame, rus_sampling_strategy:str='auto', smote_sampling_strategy:str='auto', enable_rus:bool=True, enable_smote:bool=True, test_size:float=0.2):\n",
    "    \"\"\"\n",
    "    Prepare data for classification by balancing class distribution through a combination of Random Undersampling (RUS) and Synthetic Minority Oversampling Technique (SMOTE).\n",
    "\n",
    "    Parameters:\n",
    "    X (DataFrame): Feature columns of the dataset.\n",
    "    y (Series): Target column of the dataset.\n",
    "    rus_sampling_strategy (str): Sampling strategy for RandomUnderSampler. Default is 'auto'.\n",
    "    smote_sampling_strategy (str): Sampling strategy for SMOTE. Default is 'auto'.\n",
    "    enable_rus (bool): Flag to enable RandomUnderSampler. Default is True.\n",
    "    enable_smote (bool): Flag to enable SMOTE. Default is True.\n",
    "    test_size (float): Ratio of the dataset to include in the test split. Default is 0.2.\n",
    "\n",
    "    Returns:\n",
    "    X_train (DataFrame): Training set features.\n",
    "    X_test (DataFrame): Testing set features.\n",
    "    y_train (Series): Training set target.\n",
    "    y_test (Series): Testing set target.\n",
    "    \"\"\"\n",
    "    # Split data into training and testing sets\n",
    "    X_train, X_test, y_train, y_test = train_test_split(X, y, test_size=test_size, random_state=42, stratify=y)\n",
    "\n",
    "    # print('Before resampling:')\n",
    "    # print('Train set:')\n",
    "    # print(y_train.value_counts())\n",
    "    # print('Test set:')\n",
    "    # print(y_test.value_counts())\n",
    "\n",
    "    # Undersample the majority class on Train dataset only\n",
    "    if enable_rus:\n",
    "        rus = RandomUnderSampler(random_state=42, sampling_strategy=rus_sampling_strategy)\n",
    "        X_train, y_train = rus.fit_resample(X_train, y_train)\n",
    "        # print('After RUS:')\n",
    "        # print(y_train.value_counts())\n",
    "\n",
    "    # Oversample the minority class on Train dataset only\n",
    "    if enable_smote:\n",
    "        smote = SMOTE(random_state=42, sampling_strategy=smote_sampling_strategy)\n",
    "        X_train, y_train = smote.fit_resample(X_train, y_train)\n",
    "        # print('After SMOTE:')\n",
    "        # print(y_train.value_counts())\n",
    "\n",
    "    # Print class distribution after resampling\n",
    "    print('After resampling:')\n",
    "    print('Train set:')\n",
    "    print(y_train.value_counts())\n",
    "    print('Test set:')\n",
    "    print(y_test.value_counts())\n",
    "\n",
    "    return X_train, X_test, y_train, y_test\n"
   ]
  },
  {
   "cell_type": "code",
   "execution_count": null,
   "metadata": {},
   "outputs": [],
   "source": [
    "# Separate features and target variable\n",
    "X = df.drop('class', axis=1)\n",
    "y = df['class']"
   ]
  },
  {
   "cell_type": "code",
   "execution_count": null,
   "metadata": {},
   "outputs": [],
   "source": [
    "# rus_sampling_strategy=0.1 -> reducing to 10% of majority class\n",
    "# smote_sampling_strategy=0.25 -> increasing 25% of minotiry class\n",
    "X_train, X_test, y_train, y_test = prepare_data_rus_smote_mix(X, y, rus_sampling_strategy=0.1, \n",
    "                                                              smote_sampling_strategy=0.25,\n",
    "                                                              enable_rus=True,\n",
    "                                                              enable_smote=True,\n",
    "                                                              test_size=0.2)"
   ]
  }
 ],
 "metadata": {
  "kernelspec": {
   "display_name": "tensorflow",
   "language": "python",
   "name": "python3"
  },
  "language_info": {
   "codemirror_mode": {
    "name": "ipython",
    "version": 3
   },
   "file_extension": ".py",
   "mimetype": "text/x-python",
   "name": "python",
   "nbconvert_exporter": "python",
   "pygments_lexer": "ipython3",
   "version": "3.10.12"
  }
 },
 "nbformat": 4,
 "nbformat_minor": 2
}
